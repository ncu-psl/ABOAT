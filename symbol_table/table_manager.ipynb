{
 "cells": [
  {
   "cell_type": "markdown",
   "metadata": {},
   "source": [
    "![title](https://i.imgur.com/GSGG2ps.png)"
   ]
  },
  {
   "cell_type": "code",
   "execution_count": 113,
   "metadata": {},
   "outputs": [],
   "source": [
    "class table_manager(object):\n",
    "    '''\n",
    "    使用table_list管理程式中所有scope的symbol table\n",
    "    table_list中只會有當前的scope以及父scope的table\n",
    "    '''\n",
    "    def __init__(self):\n",
    "        self.table_list = []\n",
    "        self.__current_scope_number = 0 #1以上表示 table_list中有存放 table\n",
    "        \n",
    "    @property\n",
    "    def current_scope_number(self):\n",
    "        return self.__current_scope_number\n",
    "    \n",
    "    def add_table(self): \n",
    "        '''\n",
    "        呼叫此函式當visitor進入新的scope\n",
    "        first in last out\n",
    "        '''\n",
    "        table = symbol_table(self.__current_scope_number)\n",
    "        self.table_list.append(table)\n",
    "        self.current_table = table\n",
    "        self.__current_scope_number+=1\n",
    "    \n",
    "    def pop_table(self):\n",
    "        '''呼叫此函式當visitor離開scope'''\n",
    "        if current_scope_number is not 0:\n",
    "            self.table_list.pop()\n",
    "            self.current_table = self.table_list[-1]\n",
    "            self.__current_scope_number -= 1\n",
    "        else: \n",
    "            print('table list is empty')\n",
    "           \n",
    "    def add_symbol(self, symbol_name, value):\n",
    "        sym = symbol(symbol_name,value)\n",
    "        self.current_table.update(sym)\n",
    "        \n",
    "    def get_symbol_value(self,symbol_name:str):\n",
    "        for t in reversed(self.table_list):\n",
    "            if symbol_name in t.table:\n",
    "                return t.get_symbol_value(symbol_name)\n",
    "        return 'not found this symbol'\n",
    "    \n",
    "    def print_current_table(self):\n",
    "        return self.current_table.table\n",
    "\n",
    "class symbol_table(object):\n",
    "    '''\n",
    "    此class的目的是為了儲存每個scope中的symbol name 以及value\n",
    "    將資訊存在table中\n",
    "    table中儲存identifier這個類別的物件\n",
    "    '''\n",
    "    def __init__(self,scope_number):\n",
    "        self.table = {}\n",
    "        self.num = scope_number #分辨此table屬於哪個scope，從0開始編號\n",
    "        \n",
    "    def update(self, symbol):\n",
    "        '''\n",
    "        確認table中是否出現過該symbol\n",
    "        如果有:替換該symbol 的value\n",
    "        無:將symbol存入table\n",
    "           '''\n",
    "        self.table.update({symbol.name:symbol.value})\n",
    "        \n",
    "    def get_symbol_value(self,symbol_name:str):\n",
    "        return self.table[symbol_name]\n",
    "       \n",
    "class symbol():\n",
    "    '''\n",
    "    存放著symbol的名字以及被賦的值\n",
    "    皆以字串保存    \n",
    "    '''\n",
    "    def __init__(self, name:str, value:str):\n",
    "        self.name = name\n",
    "        self.value = value\n",
    "    "
   ]
  },
  {
   "cell_type": "code",
   "execution_count": 114,
   "metadata": {},
   "outputs": [],
   "source": [
    "manager = table_manager()\n",
    "current_scope_number = -1\n",
    "manager.add_table()\n",
    "current_scope_number+=1\n",
    "\n",
    "manager.add_symbol('n','n++')\n",
    "manager.add_symbol('m','m+n')"
   ]
  },
  {
   "cell_type": "code",
   "execution_count": 115,
   "metadata": {},
   "outputs": [
    {
     "data": {
      "text/plain": [
       "'m+n'"
      ]
     },
     "execution_count": 115,
     "metadata": {},
     "output_type": "execute_result"
    }
   ],
   "source": [
    "manager.get_symbol_value('m')"
   ]
  },
  {
   "cell_type": "code",
   "execution_count": 116,
   "metadata": {},
   "outputs": [],
   "source": [
    "manager.add_table()\n"
   ]
  },
  {
   "cell_type": "code",
   "execution_count": 117,
   "metadata": {},
   "outputs": [
    {
     "data": {
      "text/plain": [
       "'m+n'"
      ]
     },
     "execution_count": 117,
     "metadata": {},
     "output_type": "execute_result"
    }
   ],
   "source": [
    "manager.get_symbol_value('m')"
   ]
  },
  {
   "cell_type": "code",
   "execution_count": 122,
   "metadata": {},
   "outputs": [
    {
     "name": "stdout",
     "output_type": "stream",
     "text": [
      "{}\n"
     ]
    }
   ],
   "source": [
    "print(manager.print_current_table())"
   ]
  }
 ],
 "metadata": {
  "kernelspec": {
   "display_name": "Python 3",
   "language": "python",
   "name": "python3"
  },
  "language_info": {
   "codemirror_mode": {
    "name": "ipython",
    "version": 3
   },
   "file_extension": ".py",
   "mimetype": "text/x-python",
   "name": "python",
   "nbconvert_exporter": "python",
   "pygments_lexer": "ipython3",
   "version": "3.6.5"
  }
 },
 "nbformat": 4,
 "nbformat_minor": 2
}
